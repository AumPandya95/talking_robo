{
 "cells": [
  {
   "cell_type": "code",
   "execution_count": 4,
   "id": "04c14d3c-69f7-4357-9f1b-731d872e91bf",
   "metadata": {},
   "outputs": [],
   "source": [
    "from langchain.text_splitter import CharacterTextSplitter\n",
    "from langchain.document_loaders import AsyncChromiumLoader\n",
    "from langchain.document_transformers import Html2TextTransformer\n",
    "from langchain.embeddings import HuggingFaceEmbeddings\n",
    "from langchain.vectorstores import FAISS\n",
    "import unicodedata\n",
    "import lxml_html_clean\n",
    "from bs4 import BeautifulSoup\n",
    "import nest_asyncio\n",
    "import pandas as pd"
   ]
  },
  {
   "cell_type": "code",
   "execution_count": 5,
   "id": "5c9174f6-3407-4a09-b5d5-7d55b05c0952",
   "metadata": {},
   "outputs": [],
   "source": [
    "stack_exchange = pd.read_csv(\"../model/python_qna.csv\")"
   ]
  },
  {
   "cell_type": "code",
   "execution_count": 18,
   "id": "e5e9565c-c628-4e9e-8c42-4ef06c6d4e1d",
   "metadata": {},
   "outputs": [
    {
     "data": {
      "text/plain": [
       "'Tensorflow: Stringify tensor as a whole (without creating tensor of strings)'"
      ]
     },
     "execution_count": 18,
     "metadata": {},
     "output_type": "execute_result"
    }
   ],
   "source": [
    "stack_exchange.loc[49996]['Title']"
   ]
  },
  {
   "cell_type": "code",
   "execution_count": 7,
   "id": "6d656a5c-b06b-46d0-9cb2-95d5f2d757d5",
   "metadata": {},
   "outputs": [
    {
     "data": {
      "text/plain": [
       "'<p>I have the following array,</p>\\n\\n<pre class=\"lang-py prettyprint-override\"><code>a = tf.random.uniform((5,2), 0, 10)\\n\\n&lt;tf.Tensor: shape=(5, 2), dtype=float32, numpy=\\narray([[3.8656425 , 6.7514324 ],\\n       [0.49138665, 3.5968459 ],\\n       [4.435692  , 4.7223845 ],\\n       [7.3588967 , 0.31867146],\\n       [1.6837907 , 3.2266355 ]], dtype=float32)&gt;\\n</code></pre>\\n\\n<p>What I want is array of stringified arrays like below this would return a numpy array, but I want to do tensorflow ops to return a tensor:</p>\\n\\n<pre class=\"lang-py prettyprint-override\"><code>list(map(str, a.numpy()))\\n\\n[\\'[3.8656425 6.7514324]\\',\\n \\'[0.49138665 3.5968459 ]\\',\\n \\'[4.435692  4.7223845]\\',\\n \\'[7.3588967  0.31867146]\\',\\n \\'[1.6837907 3.2266355]\\']\\n</code></pre>\\n\\n<p>When I use <code>tf.as_string()</code></p>\\n\\n<pre class=\"lang-py prettyprint-override\"><code>tf.as_string(a)\\n\\n&lt;tf.Tensor: shape=(5, 2), dtype=string, numpy=\\narray([[b\\'3.865643\\', b\\'6.751432\\'],\\n       [b\\'0.491387\\', b\\'3.596846\\'],\\n       [b\\'4.435692\\', b\\'4.722384\\'],\\n       [b\\'7.358897\\', b\\'0.318671\\'],\\n       [b\\'1.683791\\', b\\'3.226635\\']], dtype=object)&gt;\\n</code></pre>\\n\\n<p>I also tried using</p>\\n\\n<pre class=\"lang-py prettyprint-override\"><code>tf.map_fn(tf.as_string, a, dtype=tf.string)\\n\\n# Same output as above\\n</code></pre>\\n\\n<p><code>tf.as_string()</code> converts float/int tensors to string tensors of same shape.\\nIs there any tensorflow op that stringifies tensors as a whole?</p>\\n'"
      ]
     },
     "execution_count": 7,
     "metadata": {},
     "output_type": "execute_result"
    }
   ],
   "source": [
    "stack_exchange.loc[49996]['question']"
   ]
  },
  {
   "cell_type": "code",
   "execution_count": 8,
   "id": "ab5a27cb-6629-4cd4-8669-9e38454afe8d",
   "metadata": {},
   "outputs": [
    {
     "data": {
      "text/plain": [
       "'<p>You can use <a href=\"https://www.tensorflow.org/api_docs/python/tf/strings/format\" rel=\"nofollow noreferrer\"><code>tf.strings.format</code></a>:</p>\\n\\n<pre class=\"lang-py prettyprint-override\"><code>import tensorflow as tf\\n\\ntf.random.set_seed(0)\\na = tf.random.uniform((5,2), 0, 10)\\nb = tf.map_fn(lambda r: tf.strings.format(\\'{}\\', r, summarize=-1), a, tf.string)\\nprint(b)\\n# tf.Tensor(\\n# [b\\'[2.91975141 2.06566453]\\' b\\'[5.35390759 5.61257458]\\'\\n#  b\\'[4.16674519 8.0782795]\\' b\\'[4.93225098 9.98129272]\\'\\n#  b\\'[6.96735144 1.25373602]\\'], shape=(5,), dtype=string)\\n</code></pre>\\n'"
      ]
     },
     "execution_count": 8,
     "metadata": {},
     "output_type": "execute_result"
    }
   ],
   "source": [
    "stack_exchange.loc[49996]['answer']"
   ]
  },
  {
   "cell_type": "code",
   "execution_count": 9,
   "id": "63d4e384-594e-4d73-b62a-c3e0c6f2ff8d",
   "metadata": {},
   "outputs": [],
   "source": [
    "soup = BeautifulSoup(stack_exchange.loc[49996]['question'], 'html.parser')"
   ]
  },
  {
   "cell_type": "code",
   "execution_count": 15,
   "id": "b1ea2783-7269-4e5e-a894-044be00af44a",
   "metadata": {},
   "outputs": [
    {
     "data": {
      "text/plain": [
       "\"<p>I have the following array,</p> <code>a = tf.random.uniform((5,2), 0, 10)\\n\\n&lt;tf.Tensor: shape=(5, 2), dtype=float32, numpy=\\narray([[3.8656425 , 6.7514324 ],\\n       [0.49138665, 3.5968459 ],\\n       [4.435692  , 4.7223845 ],\\n       [7.3588967 , 0.31867146],\\n       [1.6837907 , 3.2266355 ]], dtype=float32)&gt;\\n</code> <p>What I want is array of stringified arrays like below this would return a numpy array, but I want to do tensorflow ops to return a tensor:</p> <code>list(map(str, a.numpy()))\\n\\n['[3.8656425 6.7514324]',\\n '[0.49138665 3.5968459 ]',\\n '[4.435692  4.7223845]',\\n '[7.3588967  0.31867146]',\\n '[1.6837907 3.2266355]']\\n</code> <p>When I use <code>tf.as_string()</code></p> <code>tf.as_string()</code> <code>tf.as_string(a)\\n\\n&lt;tf.Tensor: shape=(5, 2), dtype=string, numpy=\\narray([[b'3.865643', b'6.751432'],\\n       [b'0.491387', b'3.596846'],\\n       [b'4.435692', b'4.722384'],\\n       [b'7.358897', b'0.318671'],\\n       [b'1.683791', b'3.226635']], dtype=object)&gt;\\n</code> <p>I also tried using</p> <code>tf.map_fn(tf.as_string, a, dtype=tf.string)\\n\\n# Same output as above\\n</code> <p><code>tf.as_string()</code> converts float/int tensors to string tensors of same shape.\\nIs there any tensorflow op that stringifies tensors as a whole?</p> <code>tf.as_string()</code>\""
      ]
     },
     "execution_count": 15,
     "metadata": {},
     "output_type": "execute_result"
    }
   ],
   "source": [
    "' '.join(str(each_find) for each_find in soup.findAll(['p', 'code', 'b']))"
   ]
  },
  {
   "cell_type": "code",
   "execution_count": 39,
   "id": "1c9141c8-295b-4e67-b460-94cadbd1668a",
   "metadata": {},
   "outputs": [
    {
     "data": {
      "text/plain": [
       "\"I have the following array, a = tf.random.uniform((5,2), 0, 10)\\n\\n<tf.Tensor: shape=(5, 2), dtype=float32, numpy=\\narray([[3.8656425 , 6.7514324 ],\\n       [0.49138665, 3.5968459 ],\\n       [4.435692  , 4.7223845 ],\\n       [7.3588967 , 0.31867146],\\n       [1.6837907 , 3.2266355 ]], dtype=float32)> What I want is array of stringified arrays like below this would return a numpy array, but I want to do tensorflow ops to return a tensor: list(map(str, a.numpy()))\\n\\n['[3.8656425 6.7514324]',\\n '[0.49138665 3.5968459 ]',\\n '[4.435692  4.7223845]',\\n '[7.3588967  0.31867146]',\\n '[1.6837907 3.2266355]'] When I use tf.as_string() tf.as_string(a)\\n\\n<tf.Tensor: shape=(5, 2), dtype=string, numpy=\\narray([[b'3.865643', b'6.751432'],\\n       [b'0.491387', b'3.596846'],\\n       [b'4.435692', b'4.722384'],\\n       [b'7.358897', b'0.318671'],\\n       [b'1.683791', b'3.226635']], dtype=object)> I also tried using tf.map_fn(tf.as_string, a, dtype=tf.string)\\n\\n# Same output as above tf.as_string() converts float/int tensors to string tensors of same shape.\\nIs there any tensorflow op that stringifies tensors as a whole?\""
      ]
     },
     "execution_count": 39,
     "metadata": {},
     "output_type": "execute_result"
    }
   ],
   "source": [
    "' '.join(soup.stripped_strings)"
   ]
  },
  {
   "cell_type": "code",
   "execution_count": null,
   "id": "2a4ce385-68dd-42b9-b304-5f5792873fda",
   "metadata": {},
   "outputs": [],
   "source": []
  },
  {
   "cell_type": "code",
   "execution_count": 138,
   "id": "71e78d85-e4dd-4e32-bd52-4e678278a993",
   "metadata": {},
   "outputs": [
    {
     "data": {
      "text/plain": [
       "<p>I have the following array,</p>\n",
       "<hh class=\"lang-py prettyprint-override\"><code>a = tf.random.uniform((5,2), 0, 10)\n",
       "\n",
       "&lt;tf.Tensor: shape=(5, 2), dtype=float32, numpy=\n",
       "array([[3.8656425 , 6.7514324 ],\n",
       "       [0.49138665, 3.5968459 ],\n",
       "       [4.435692  , 4.7223845 ],\n",
       "       [7.3588967 , 0.31867146],\n",
       "       [1.6837907 , 3.2266355 ]], dtype=float32)&gt;\n",
       "</code></hh>\n",
       "<p>What I want is array of stringified arrays like below this would return a numpy array, but I want to do tensorflow ops to return a tensor:</p>\n",
       "<hhh class=\"lang-py prettyprint-override\"><code>list(map(str, a.numpy()))\n",
       "\n",
       "['[3.8656425 6.7514324]',\n",
       " '[0.49138665 3.5968459 ]',\n",
       " '[4.435692  4.7223845]',\n",
       " '[7.3588967  0.31867146]',\n",
       " '[1.6837907 3.2266355]']\n",
       "</code></hhh>\n",
       "<p>When I use <code>tf.as_string()</code></p>\n",
       "<hhh class=\"lang-py prettyprint-override\"><code>tf.as_string(a)\n",
       "\n",
       "&lt;tf.Tensor: shape=(5, 2), dtype=string, numpy=\n",
       "array([[b'3.865643', b'6.751432'],\n",
       "       [b'0.491387', b'3.596846'],\n",
       "       [b'4.435692', b'4.722384'],\n",
       "       [b'7.358897', b'0.318671'],\n",
       "       [b'1.683791', b'3.226635']], dtype=object)&gt;\n",
       "</code></hhh>\n",
       "<p>I also tried using</p>\n",
       "<hhh class=\"lang-py prettyprint-override\"><code>tf.map_fn(tf.as_string, a, dtype=tf.string)\n",
       "\n",
       "# Same output as above\n",
       "</code></hhh>\n",
       "<p><code>tf.as_string()</code> converts float/int tensors to string tensors of same shape.\n",
       "Is there any tensorflow op that stringifies tensors as a whole?</p>"
      ]
     },
     "execution_count": 138,
     "metadata": {},
     "output_type": "execute_result"
    }
   ],
   "source": [
    "soup(['p', 'pre'])"
   ]
  },
  {
   "cell_type": "code",
   "execution_count": 113,
   "id": "6bfc6167-2a9d-410b-aca6-324ed373b9e6",
   "metadata": {},
   "outputs": [
    {
     "data": {
      "text/plain": [
       "<p>I have the following array,</p>\n",
       "<pre class=\"lang-py prettyprint-override\"><code>a = tf.random.uniform((5,2), 0, 10)\n",
       "\n",
       "&lt;tf.Tensor: shape=(5, 2), dtype=float32, numpy=\n",
       "array([[3.8656425 , 6.7514324 ],\n",
       "       [0.49138665, 3.5968459 ],\n",
       "       [4.435692  , 4.7223845 ],\n",
       "       [7.3588967 , 0.31867146],\n",
       "       [1.6837907 , 3.2266355 ]], dtype=float32)&gt;\n",
       "</code></pre>\n",
       "<p>What I want is array of stringified arrays like below this would return a numpy array, but I want to do tensorflow ops to return a tensor:</p>\n",
       "<pre class=\"lang-py prettyprint-override\"><code>list(map(str, a.numpy()))\n",
       "\n",
       "['[3.8656425 6.7514324]',\n",
       " '[0.49138665 3.5968459 ]',\n",
       " '[4.435692  4.7223845]',\n",
       " '[7.3588967  0.31867146]',\n",
       " '[1.6837907 3.2266355]']\n",
       "</code></pre>\n",
       "<p>When I use <code>tf.as_string()</code></p>\n",
       "<pre class=\"lang-py prettyprint-override\"><code>tf.as_string(a)\n",
       "\n",
       "&lt;tf.Tensor: shape=(5, 2), dtype=string, numpy=\n",
       "array([[b'3.865643', b'6.751432'],\n",
       "       [b'0.491387', b'3.596846'],\n",
       "       [b'4.435692', b'4.722384'],\n",
       "       [b'7.358897', b'0.318671'],\n",
       "       [b'1.683791', b'3.226635']], dtype=object)&gt;\n",
       "</code></pre>\n",
       "<p>I also tried using</p>\n",
       "<pre class=\"lang-py prettyprint-override\"><code>tf.map_fn(tf.as_string, a, dtype=tf.string)\n",
       "\n",
       "# Same output as above\n",
       "</code></pre>\n",
       "<p><code>tf.as_string()</code> converts float/int tensors to string tensors of same shape.\n",
       "Is there any tensorflow op that stringifies tensors as a whole?</p>"
      ]
     },
     "execution_count": 113,
     "metadata": {},
     "output_type": "execute_result"
    }
   ],
   "source": [
    "soup"
   ]
  },
  {
   "cell_type": "markdown",
   "id": "96d5dcc3-e720-4d37-ac63-7e5a6a851320",
   "metadata": {},
   "source": [
    "### Miscellaneous"
   ]
  },
  {
   "cell_type": "code",
   "execution_count": 89,
   "id": "a73c79fc-b5e8-42ac-906d-dc61879dfacf",
   "metadata": {},
   "outputs": [
    {
     "name": "stdout",
     "output_type": "stream",
     "text": [
      "['a = tf.random.uniform((5,2), 0, 10)\\n\\n<tf.Tensor: shape=(5, 2), dtype=float32, numpy=\\narray([[3.8656425 , 6.7514324 ],\\n       [0.49138665, 3.5968459 ],\\n       [4.435692  , 4.7223845 ],\\n       [7.3588967 , 0.31867146],\\n       [1.6837907 , 3.2266355 ]], dtype=float32)>\\n', 'What I want is array of stringified arrays like below this would return a numpy array, but I want to do tensorflow ops to return a tensor:', \"tf.as_string(a)\\n\\n<tf.Tensor: shape=(5, 2), dtype=string, numpy=\\narray([[b'3.865643', b'6.751432'],\\n       [b'0.491387', b'3.596846'],\\n       [b'4.435692', b'4.722384'],\\n       [b'7.358897', b'0.318671'],\\n       [b'1.683791', b'3.226635']], dtype=object)>\\n\"]\n"
     ]
    },
    {
     "name": "stderr",
     "output_type": "stream",
     "text": [
      "/var/folders/4d/fvcgsx3147g9zz7w2n4fn5w00000gn/T/ipykernel_82150/3967608625.py:2: DeprecationWarning: The 'text' argument to find()-type methods is deprecated. Use 'string' instead.\n",
      "  nodes_to_censor = soup.findAll(text=re.compile('.*array.*'))\n"
     ]
    }
   ],
   "source": [
    "import re\n",
    "nodes_to_censor = soup.findAll(text=re.compile('.*.*'))\n",
    "print(nodes_to_censor)\n",
    "for node in nodes_to_censor:\n",
    "    node.replaceWith('###')"
   ]
  },
  {
   "cell_type": "code",
   "execution_count": 76,
   "id": "76d7cfe1-9aa1-400d-87d6-18c77bfb9493",
   "metadata": {},
   "outputs": [
    {
     "data": {
      "text/plain": [
       "[]"
      ]
     },
     "execution_count": 76,
     "metadata": {},
     "output_type": "execute_result"
    }
   ],
   "source": [
    "nodes_to_censor"
   ]
  },
  {
   "cell_type": "markdown",
   "id": "12cc8db8-99f0-4747-a5bd-3473213a1bc5",
   "metadata": {},
   "source": [
    "### Articles to documents"
   ]
  },
  {
   "cell_type": "code",
   "execution_count": 21,
   "id": "ad834041-352d-4849-ac2a-b60371641499",
   "metadata": {},
   "outputs": [],
   "source": [
    "nest_asyncio.apply()"
   ]
  },
  {
   "cell_type": "code",
   "execution_count": 22,
   "id": "c5211ff1-d061-404b-a8b1-f49281610465",
   "metadata": {},
   "outputs": [],
   "source": [
    "articles = [\"https://docs.python.org/3.13/whatsnew/3.13.html\"]"
   ]
  },
  {
   "cell_type": "code",
   "execution_count": 23,
   "id": "6c4fbc87-f117-487b-9e5a-6d53593d4f6e",
   "metadata": {},
   "outputs": [],
   "source": [
    "# Scrapes the blogs above\n",
    "loader = AsyncChromiumLoader(articles)\n",
    "docs = loader.load()"
   ]
  },
  {
   "cell_type": "code",
   "execution_count": 25,
   "id": "1bd8b603-6096-4f81-9680-f801ba32f8d2",
   "metadata": {},
   "outputs": [],
   "source": [
    "# Converts HTML to plain text \n",
    "html2text = Html2TextTransformer()\n",
    "docs_transformed = html2text.transform_documents(docs)"
   ]
  },
  {
   "cell_type": "code",
   "execution_count": 31,
   "id": "8baf2fcb-a859-432f-b082-2a07b202c883",
   "metadata": {
    "scrolled": true
   },
   "outputs": [
    {
     "name": "stderr",
     "output_type": "stream",
     "text": [
      "Created a chunk of size 1716, which is longer than the specified 500\n",
      "Created a chunk of size 540, which is longer than the specified 500\n",
      "Created a chunk of size 708, which is longer than the specified 500\n",
      "Created a chunk of size 662, which is longer than the specified 500\n",
      "Created a chunk of size 515, which is longer than the specified 500\n",
      "Created a chunk of size 1716, which is longer than the specified 500\n"
     ]
    }
   ],
   "source": [
    "# Chunk text\n",
    "text_splitter = CharacterTextSplitter(chunk_size=500, \n",
    "                                      chunk_overlap=0)\n",
    "chunked_documents = text_splitter.split_documents(docs_transformed)"
   ]
  },
  {
   "cell_type": "code",
   "execution_count": 12,
   "id": "cf2d1171-d7d1-44b2-93a0-1a90970843d4",
   "metadata": {},
   "outputs": [],
   "source": [
    "# Load chunked documents into the FAISS index\n",
    "db = FAISS.from_documents(chunked_documents, \n",
    "                          HuggingFaceEmbeddings(model_name='sentence-transformers/all-mpnet-base-v2'))\n"
   ]
  },
  {
   "cell_type": "code",
   "execution_count": 10,
   "id": "74e7d4e1-d139-4073-b4e6-844f679b1ba1",
   "metadata": {},
   "outputs": [
    {
     "data": {
      "text/plain": [
       "[Document(page_content='* Currently Python accepts numeric literals immediately followed by keywords, for example `0in x`, `1or x`, `0if 1else 2`. It allows confusing and ambiguous expressions like `[0x1for x in y]` (which can be interpreted as `[0x1 for x in y]` or `[0x1f or x in y]`). A syntax warning is raised if the numeric literal is immediately followed by one of keywords `and`, `else`, `for`, `if`, `in`, `is` and `or`. In a future release it will be changed to a syntax error. (gh-87999)', metadata={'source': 'https://docs.python.org/3.13/whatsnew/3.13.html'}),\n",
       " Document(page_content='### tkinter¶', metadata={'source': 'https://docs.python.org/3.13/whatsnew/3.13.html'}),\n",
       " Document(page_content='* index\\n  * modules |\\n  * next |\\n  * previous |\\n  *   * Python »\\n  * EnglishSpanishFrenchJapaneseKoreanBrazilian PortugueseTurkishSimplified ChineseTraditional Chinese', metadata={'source': 'https://docs.python.org/3.13/whatsnew/3.13.html'}),\n",
       " Document(page_content='* Python 3.13 and later have two years of full support, followed by three years of security fixes.', metadata={'source': 'https://docs.python.org/3.13/whatsnew/3.13.html'})]"
      ]
     },
     "execution_count": 10,
     "metadata": {},
     "output_type": "execute_result"
    }
   ],
   "source": [
    "db.search(\"Python\", search_type='mmr')"
   ]
  }
 ],
 "metadata": {
  "kernelspec": {
   "display_name": "llm_env",
   "language": "python",
   "name": "llm_env"
  },
  "language_info": {
   "codemirror_mode": {
    "name": "ipython",
    "version": 3
   },
   "file_extension": ".py",
   "mimetype": "text/x-python",
   "name": "python",
   "nbconvert_exporter": "python",
   "pygments_lexer": "ipython3",
   "version": "3.11.0"
  }
 },
 "nbformat": 4,
 "nbformat_minor": 5
}
