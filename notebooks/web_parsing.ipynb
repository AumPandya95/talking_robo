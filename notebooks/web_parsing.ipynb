{
 "cells": [
  {
   "cell_type": "code",
   "execution_count": 1,
   "id": "04c14d3c-69f7-4357-9f1b-731d872e91bf",
   "metadata": {},
   "outputs": [],
   "source": [
    "from langchain.text_splitter import CharacterTextSplitter\n",
    "from langchain.document_loaders import AsyncChromiumLoader\n",
    "from langchain.document_transformers import Html2TextTransformer\n",
    "from langchain.embeddings import HuggingFaceEmbeddings\n",
    "from langchain.vectorstores import FAISS\n",
    "import nest_asyncio"
   ]
  },
  {
   "cell_type": "code",
   "execution_count": 2,
   "id": "ad834041-352d-4849-ac2a-b60371641499",
   "metadata": {},
   "outputs": [],
   "source": [
    "nest_asyncio.apply()"
   ]
  },
  {
   "cell_type": "code",
   "execution_count": 3,
   "id": "c5211ff1-d061-404b-a8b1-f49281610465",
   "metadata": {},
   "outputs": [],
   "source": [
    "articles = [\"https://docs.python.org/3.13/whatsnew/3.13.html\"]"
   ]
  },
  {
   "cell_type": "code",
   "execution_count": 4,
   "id": "6c4fbc87-f117-487b-9e5a-6d53593d4f6e",
   "metadata": {},
   "outputs": [],
   "source": [
    "# Scrapes the blogs above\n",
    "loader = AsyncChromiumLoader(articles)\n",
    "docs = loader.load()"
   ]
  },
  {
   "cell_type": "code",
   "execution_count": 5,
   "id": "1bd8b603-6096-4f81-9680-f801ba32f8d2",
   "metadata": {},
   "outputs": [],
   "source": [
    "# Converts HTML to plain text \n",
    "html2text = Html2TextTransformer()\n",
    "docs_transformed = html2text.transform_documents(docs)"
   ]
  },
  {
   "cell_type": "code",
   "execution_count": 11,
   "id": "8baf2fcb-a859-432f-b082-2a07b202c883",
   "metadata": {
    "scrolled": true
   },
   "outputs": [
    {
     "name": "stderr",
     "output_type": "stream",
     "text": [
      "Created a chunk of size 1698, which is longer than the specified 500\n",
      "Created a chunk of size 540, which is longer than the specified 500\n",
      "Created a chunk of size 708, which is longer than the specified 500\n",
      "Created a chunk of size 662, which is longer than the specified 500\n",
      "Created a chunk of size 515, which is longer than the specified 500\n",
      "Created a chunk of size 1698, which is longer than the specified 500\n"
     ]
    }
   ],
   "source": [
    "# Chunk text\n",
    "text_splitter = CharacterTextSplitter(chunk_size=500, \n",
    "                                      chunk_overlap=0)\n",
    "chunked_documents = text_splitter.split_documents(docs_transformed)"
   ]
  },
  {
   "cell_type": "code",
   "execution_count": 12,
   "id": "cf2d1171-d7d1-44b2-93a0-1a90970843d4",
   "metadata": {},
   "outputs": [],
   "source": [
    "# Load chunked documents into the FAISS index\n",
    "db = FAISS.from_documents(chunked_documents, \n",
    "                          HuggingFaceEmbeddings(model_name='sentence-transformers/all-mpnet-base-v2'))\n"
   ]
  },
  {
   "cell_type": "code",
   "execution_count": 10,
   "id": "74e7d4e1-d139-4073-b4e6-844f679b1ba1",
   "metadata": {},
   "outputs": [
    {
     "data": {
      "text/plain": [
       "[Document(page_content='* Currently Python accepts numeric literals immediately followed by keywords, for example `0in x`, `1or x`, `0if 1else 2`. It allows confusing and ambiguous expressions like `[0x1for x in y]` (which can be interpreted as `[0x1 for x in y]` or `[0x1f or x in y]`). A syntax warning is raised if the numeric literal is immediately followed by one of keywords `and`, `else`, `for`, `if`, `in`, `is` and `or`. In a future release it will be changed to a syntax error. (gh-87999)', metadata={'source': 'https://docs.python.org/3.13/whatsnew/3.13.html'}),\n",
       " Document(page_content='### tkinter¶', metadata={'source': 'https://docs.python.org/3.13/whatsnew/3.13.html'}),\n",
       " Document(page_content='* index\\n  * modules |\\n  * next |\\n  * previous |\\n  *   * Python »\\n  * EnglishSpanishFrenchJapaneseKoreanBrazilian PortugueseTurkishSimplified ChineseTraditional Chinese', metadata={'source': 'https://docs.python.org/3.13/whatsnew/3.13.html'}),\n",
       " Document(page_content='* Python 3.13 and later have two years of full support, followed by three years of security fixes.', metadata={'source': 'https://docs.python.org/3.13/whatsnew/3.13.html'})]"
      ]
     },
     "execution_count": 10,
     "metadata": {},
     "output_type": "execute_result"
    }
   ],
   "source": [
    "db.search(\"Python\", search_type='mmr')"
   ]
  }
 ],
 "metadata": {
  "kernelspec": {
   "display_name": "llm_env",
   "language": "python",
   "name": "llm_env"
  },
  "language_info": {
   "codemirror_mode": {
    "name": "ipython",
    "version": 3
   },
   "file_extension": ".py",
   "mimetype": "text/x-python",
   "name": "python",
   "nbconvert_exporter": "python",
   "pygments_lexer": "ipython3",
   "version": "3.11.0"
  }
 },
 "nbformat": 4,
 "nbformat_minor": 5
}
